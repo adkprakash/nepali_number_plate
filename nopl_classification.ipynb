{
 "cells": [
  {
   "cell_type": "code",
   "execution_count": 1,
   "metadata": {},
   "outputs": [],
   "source": [
    "import os\n",
    "import matplotlib.pyplot as plt\n",
    "import seaborn as sns\n",
    "import numpy as np\n",
    "import pandas as pd\n",
    "from sklearn.metrics import precision_score, recall_score, f1_score\n",
    "import torch\n",
    "import torch.nn as nn\n",
    "import torch.optim as optim\n",
    "import torch.functional as F\n",
    "from torch.utils.data import DataLoader,random_split,Dataset\n",
    "from torchvision import datasets,transforms,models\n",
    "import cv2\n"
   ]
  },
  {
   "cell_type": "code",
   "execution_count": null,
   "metadata": {},
   "outputs": [],
   "source": [
    "# Defining the transformation\n",
    "transform = transforms.Compose([\n",
    "    transforms.Resize((32, 32)),  # Resizes image to 224x224\n",
    "    transforms.Grayscale(num_output_channels=3),  # Converts RGB to grayscale\n",
    "    transforms.ToTensor(),  # Converts image to tensor value\n",
    "])"
   ]
  },
  {
   "cell_type": "code",
   "execution_count": null,
   "metadata": {},
   "outputs": [],
   "source": [
    "dataset=datasets.ImageFolder(root=r\"C:\\Users\\Acer\\Downloads\\character_ocr\",transform=transform) #loads the dataset from local storage"
   ]
  },
  {
   "cell_type": "code",
   "execution_count": 4,
   "metadata": {},
   "outputs": [],
   "source": [
    "# Creating a DataLoader for the dataset\n",
    "data_loader = DataLoader(dataset, batch_size=32, shuffle=False)"
   ]
  },
  {
   "cell_type": "code",
   "execution_count": 5,
   "metadata": {},
   "outputs": [],
   "source": [
    "# Initializing variables to calculate mean and std\n",
    "mean = 0.0\n",
    "std = 0.0\n",
    "total_images = 0"
   ]
  },
  {
   "cell_type": "code",
   "execution_count": null,
   "metadata": {},
   "outputs": [],
   "source": [
    "# Looping through the dataset\n",
    "for inputs, _ in data_loader:\n",
    "    # Calculate batch mean and std\n",
    "    batch_samples = inputs.size(0)  # Number of images in the batch\n",
    "    inputs = inputs.view(batch_samples, inputs.size(1), -1)  # Flattens the images\n",
    "    mean += inputs.mean(dim=2).mean(dim=0)  # Mean over width and height\n",
    "    std += inputs.std(dim=2).std(dim=0)  # Std over width and height\n",
    "    total_images += batch_samples"
   ]
  },
  {
   "cell_type": "code",
   "execution_count": 7,
   "metadata": {},
   "outputs": [],
   "source": [
    "# Calculating the final mean and std\n",
    "mean /= total_images\n",
    "std /= total_images"
   ]
  },
  {
   "cell_type": "code",
   "execution_count": 8,
   "metadata": {},
   "outputs": [],
   "source": [
    "transform_final = transforms.Compose([\n",
    "    transforms.Resize((32, 32)),\n",
    "    transforms.Grayscale(num_output_channels=3),\n",
    "    transforms.RandomHorizontalFlip(),  # Augmentation\n",
    "    transforms.RandomRotation(10),  # Augmentation\n",
    "    transforms.ToTensor(),\n",
    "    transforms.Normalize(mean=mean, std=std)  # Use dataset-specific mean and std\n",
    "])"
   ]
  },
  {
   "cell_type": "code",
   "execution_count": 9,
   "metadata": {},
   "outputs": [],
   "source": [
    "dataset = datasets.ImageFolder(\n",
    "    root=r\"C:\\Users\\Acer\\Downloads\\character_ocr\",\n",
    "    transform=transform_final\n",
    ")"
   ]
  },
  {
   "cell_type": "code",
   "execution_count": 10,
   "metadata": {},
   "outputs": [],
   "source": [
    "#defining training size and validation size\n",
    "dataset_size = len(dataset)\n",
    "train_size = int(0.8 * dataset_size)\n",
    "val_size = dataset_size - train_size\n"
   ]
  },
  {
   "cell_type": "code",
   "execution_count": 11,
   "metadata": {},
   "outputs": [],
   "source": [
    "# Splitting the dataset\n",
    "train_dataset, val_dataset = random_split(dataset, [train_size, val_size])"
   ]
  },
  {
   "cell_type": "code",
   "execution_count": 12,
   "metadata": {},
   "outputs": [],
   "source": [
    "#creating a custom dataset class to pair images with labels\n",
    "class ImageDataset(Dataset):\n",
    "    def __init__(self,images,labels):\n",
    "        self.images=images\n",
    "        self.labels= lables\n",
    "\n",
    "    def __len__(self):\n",
    "        return len(self.images)\n",
    "\n",
    "    def __getitem__self(self,idx):\n",
    "        image=self.images[idx]\n",
    "        label=self.labels[idx]\n",
    "        return iamge,label"
   ]
  },
  {
   "cell_type": "code",
   "execution_count": 13,
   "metadata": {},
   "outputs": [],
   "source": [
    "#Cerating Dataloader for training and validation sets\n",
    "train_data = DataLoader(train_dataset, batch_size=32, shuffle=True)\n",
    "val_data = DataLoader(val_dataset, batch_size=32, shuffle=False)\n"
   ]
  },
  {
   "cell_type": "code",
   "execution_count": null,
   "metadata": {},
   "outputs": [],
   "source": [
    "#creating models\n",
    "class CNNModel(nn.Module):\n",
    "    def __init__(self, input_size, num_classes):\n",
    "        super(CNNModel, self).__init__()\n",
    "        #defining the layers\n",
    "        self.conv1=nn.Conv2d(3,32,kernel_size=3,padding=1) #input=3; channels(RGB); output:32 channels\n",
    "        self.pool=nn.MaxPool2d(2,2) #maxpooling with 2*2 filter\n",
    "        self.conv2=nn.Conv2d(32,64, kernel_size=3,padding=1) # output:64 channels\n",
    "        self.conv3=nn.Conv2d(64,128,kernel_size=3,padding=1) #output: 128 channels\n",
    "\n",
    "        #droupout layer\n",
    "        self.dropout=nn.Dropout(0.5) #Dropout for preventing from overfitting\n",
    "\n",
    "\n",
    "        #Fully connected layer after flattening \n",
    "        self.fc1=nn.Linear(128*4*4,512) #Flattened size after two Maxpool (16*16 --> 4*4)\n",
    "        self.fc2=nn.Linear(512, num_classes) #output layer with num_classes units\n",
    "    \n",
    "    def forward(self,x):\n",
    "        #Applying Conv1, Relu and Maxpool\n",
    "        x=self.pool(torch.relu(self.conv1(x)))\n",
    "\n",
    "        x = self.dropout(x)  # Applying Dropout after Conv1 block\n",
    "\n",
    "        #Applying Conv2, Relu and Maxpool\n",
    "        x=self.pool(torch.relu(self.conv2(x)))\n",
    "\n",
    "        #Applying Conv3, Relu and Maxpool\n",
    "        x=self.pool(torch.relu(self.conv3(x)))\n",
    "\n",
    "        #Flattning the output for fully connceted layers\n",
    "        x=x.view(-1,128*4*4) #128 channels, 4*4 image size after pooling\n",
    "\n",
    "        #Applying fully connected layers with Dropout \n",
    "        x=torch.relu(self.fc1(x))\n",
    "        x=self.dropout(x) \n",
    "        x=self.fc2(x) # Output layer (no activation neede here, CrossEntropyloss does that)\n",
    "        return x\n",
    "        \n"
   ]
  },
  {
   "cell_type": "code",
   "execution_count": 15,
   "metadata": {},
   "outputs": [
    {
     "name": "stdout",
     "output_type": "stream",
     "text": [
      "Epoch [1/30] | Train Loss: 2.4500 | Val Loss: 0.8466 | Val Accuracy: 75.60% | Precision: 0.8093 | Recall: 0.7560 | F1 Score: 0.7634\n",
      "Epoch [2/30] | Train Loss: 0.8939 | Val Loss: 0.5712 | Val Accuracy: 83.36% | Precision: 0.8211 | Recall: 0.7948 | F1 Score: 0.7984\n",
      "Epoch [3/30] | Train Loss: 0.6913 | Val Loss: 0.3946 | Val Accuracy: 89.83% | Precision: 0.8419 | Recall: 0.8293 | F1 Score: 0.8309\n",
      "Epoch [4/30] | Train Loss: 0.6063 | Val Loss: 0.4878 | Val Accuracy: 85.21% | Precision: 0.8470 | Recall: 0.8350 | F1 Score: 0.8363\n",
      "Epoch [5/30] | Train Loss: 0.5713 | Val Loss: 0.2865 | Val Accuracy: 91.79% | Precision: 0.8597 | Recall: 0.8516 | F1 Score: 0.8524\n",
      "Epoch [6/30] | Train Loss: 0.5693 | Val Loss: 0.3248 | Val Accuracy: 92.22% | Precision: 0.8690 | Recall: 0.8634 | F1 Score: 0.8638\n",
      "Epoch [7/30] | Train Loss: 0.5233 | Val Loss: 0.3320 | Val Accuracy: 90.90% | Precision: 0.8741 | Recall: 0.8699 | F1 Score: 0.8702\n",
      "Epoch [8/30] | Train Loss: 0.5226 | Val Loss: 0.2715 | Val Accuracy: 92.28% | Precision: 0.8801 | Recall: 0.8765 | F1 Score: 0.8768\n",
      "Epoch [9/30] | Train Loss: 0.5197 | Val Loss: 0.2949 | Val Accuracy: 92.01% | Precision: 0.8842 | Recall: 0.8813 | F1 Score: 0.8816\n",
      "Epoch [10/30] | Train Loss: 0.5013 | Val Loss: 0.2678 | Val Accuracy: 92.67% | Precision: 0.8883 | Recall: 0.8859 | F1 Score: 0.8860\n",
      "Epoch [11/30] | Train Loss: 0.5028 | Val Loss: 0.2439 | Val Accuracy: 93.86% | Precision: 0.8929 | Recall: 0.8907 | F1 Score: 0.8908\n",
      "Epoch [12/30] | Train Loss: 0.5001 | Val Loss: 0.2643 | Val Accuracy: 92.94% | Precision: 0.8959 | Recall: 0.8939 | F1 Score: 0.8940\n",
      "Epoch [13/30] | Train Loss: 0.5031 | Val Loss: 0.3408 | Val Accuracy: 90.18% | Precision: 0.8964 | Recall: 0.8945 | F1 Score: 0.8946\n",
      "Epoch [14/30] | Train Loss: 0.4723 | Val Loss: 0.2216 | Val Accuracy: 93.88% | Precision: 0.8995 | Recall: 0.8977 | F1 Score: 0.8978\n",
      "Epoch [15/30] | Train Loss: 0.4747 | Val Loss: 0.2827 | Val Accuracy: 92.13% | Precision: 0.9011 | Recall: 0.8992 | F1 Score: 0.8994\n",
      "Epoch [16/30] | Train Loss: 0.4739 | Val Loss: 0.2113 | Val Accuracy: 94.39% | Precision: 0.9038 | Recall: 0.9020 | F1 Score: 0.9022\n",
      "Epoch [17/30] | Train Loss: 0.4801 | Val Loss: 0.2477 | Val Accuracy: 93.07% | Precision: 0.9055 | Recall: 0.9037 | F1 Score: 0.9038\n",
      "Epoch [18/30] | Train Loss: 0.4884 | Val Loss: 0.2325 | Val Accuracy: 93.37% | Precision: 0.9071 | Recall: 0.9054 | F1 Score: 0.9055\n",
      "Epoch [19/30] | Train Loss: 0.4597 | Val Loss: 0.2492 | Val Accuracy: 93.10% | Precision: 0.9084 | Recall: 0.9067 | F1 Score: 0.9068\n",
      "Epoch [20/30] | Train Loss: 0.4570 | Val Loss: 0.2539 | Val Accuracy: 92.80% | Precision: 0.9095 | Recall: 0.9078 | F1 Score: 0.9079\n",
      "Epoch [21/30] | Train Loss: 0.4752 | Val Loss: 0.1990 | Val Accuracy: 94.12% | Precision: 0.9111 | Recall: 0.9094 | F1 Score: 0.9095\n",
      "Epoch [22/30] | Train Loss: 0.4683 | Val Loss: 0.2213 | Val Accuracy: 93.58% | Precision: 0.9123 | Recall: 0.9106 | F1 Score: 0.9107\n",
      "Epoch [23/30] | Train Loss: 0.4501 | Val Loss: 0.2179 | Val Accuracy: 93.86% | Precision: 0.9135 | Recall: 0.9118 | F1 Score: 0.9120\n",
      "Epoch [24/30] | Train Loss: 0.4499 | Val Loss: 0.2094 | Val Accuracy: 93.58% | Precision: 0.9145 | Recall: 0.9128 | F1 Score: 0.9129\n",
      "Epoch [25/30] | Train Loss: 0.4383 | Val Loss: 0.2020 | Val Accuracy: 94.39% | Precision: 0.9157 | Recall: 0.9140 | F1 Score: 0.9142\n",
      "Epoch [26/30] | Train Loss: 0.4395 | Val Loss: 0.2445 | Val Accuracy: 93.20% | Precision: 0.9163 | Recall: 0.9147 | F1 Score: 0.9149\n",
      "Epoch [27/30] | Train Loss: 0.4821 | Val Loss: 0.3201 | Val Accuracy: 90.58% | Precision: 0.9160 | Recall: 0.9144 | F1 Score: 0.9146\n",
      "Epoch [28/30] | Train Loss: 0.4236 | Val Loss: 0.2087 | Val Accuracy: 93.84% | Precision: 0.9168 | Recall: 0.9153 | F1 Score: 0.9154\n",
      "Epoch [29/30] | Train Loss: 0.4779 | Val Loss: 0.1940 | Val Accuracy: 94.67% | Precision: 0.9179 | Recall: 0.9163 | F1 Score: 0.9165\n",
      "Epoch [30/30] | Train Loss: 0.4347 | Val Loss: 0.2797 | Val Accuracy: 91.37% | Precision: 0.9177 | Recall: 0.9163 | F1 Score: 0.9164\n"
     ]
    },
    {
     "data": {
      "image/png": "[encoded data removed]",
      "text/plain": [
       "<Figure size 1200x600 with 3 Axes>"
      ]
     },
     "metadata": {},
     "output_type": "display_data"
    }
   ],
   "source": [
    "# Model initialization\n",
    "input_size = 32\n",
    "num_classes = 34\n",
    "model = CNNModel(input_size=input_size, num_classes=num_classes)\n",
    "\n",
    "# Loss function and optimizer\n",
    "criterion = nn.CrossEntropyLoss()  # CrossEntropyLoss for multi-class classification\n",
    "optimizer = optim.Adam(model.parameters(), lr=0.001)\n",
    "\n",
    "# Training and Validation Loop\n",
    "num_epochs = 30\n",
    "best_val_loss = float('inf')\n",
    "\n",
    "device = torch.device(\"cuda\" if torch.cuda.is_available() else \"cpu\")\n",
    "model = model.to(device)\n",
    "\n",
    "# To track metrics\n",
    "all_val_labels = []\n",
    "all_val_preds = []\n",
    "\n",
    "# For storing precision, recall, and F1 score over epochs\n",
    "precision_history = []\n",
    "recall_history = []\n",
    "f1_score_history = []\n",
    "\n",
    "for epoch in range(num_epochs):\n",
    "    # Training phase\n",
    "    model.train()\n",
    "    running_loss = 0.0\n",
    "    for images, labels in train_data:\n",
    "        images, labels = images.to(device), labels.to(device)\n",
    "\n",
    "        # Zero gradients\n",
    "        optimizer.zero_grad()\n",
    "\n",
    "        # Forward pass\n",
    "        outputs = model(images)\n",
    "\n",
    "        # Loss calculation\n",
    "        loss = criterion(outputs, labels)\n",
    "\n",
    "        # Backward pass and optimization\n",
    "        loss.backward()\n",
    "        optimizer.step()\n",
    "\n",
    "        # Accumulate training loss\n",
    "        running_loss += loss.item()\n",
    "\n",
    "    # Calculates average training loss\n",
    "    avg_train_loss = running_loss / len(train_data)\n",
    "\n",
    "    # Validation phase\n",
    "    model.eval()\n",
    "    val_loss = 0.0\n",
    "    correct = 0\n",
    "    total = 0\n",
    "    with torch.no_grad():\n",
    "        for val_images, val_labels in val_data:\n",
    "            val_images, val_labels = val_images.to(device), val_labels.to(device)\n",
    "\n",
    "            # Forward pass\n",
    "            val_outputs = model(val_images)\n",
    "\n",
    "            # Loss calculation\n",
    "            val_loss += criterion(val_outputs, val_labels).item()\n",
    "\n",
    "            # Accuracy calculation\n",
    "            _, predicted = torch.max(val_outputs, 1)\n",
    "            total += val_labels.size(0)\n",
    "            correct += (predicted == val_labels).sum().item()\n",
    "\n",
    "            # Collects all labels and predictions for precision, recall, and f1 calculation\n",
    "            all_val_labels.extend(val_labels.cpu().numpy())\n",
    "            all_val_preds.extend(predicted.cpu().numpy())\n",
    "\n",
    "    # Calculate average validation loss and accuracy\n",
    "    avg_val_loss = val_loss / len(val_data)\n",
    "    val_accuracy = 100 * correct / total\n",
    "\n",
    "    # Calculate precision, recall, and f1-score\n",
    "    precision = precision_score(all_val_labels, all_val_preds, average='weighted', zero_division=0)\n",
    "    recall = recall_score(all_val_labels, all_val_preds, average='weighted', zero_division=0)\n",
    "    f1 = f1_score(all_val_labels, all_val_preds, average='weighted', zero_division=0)\n",
    "\n",
    "    # Store metrics\n",
    "    precision_history.append(precision)\n",
    "    recall_history.append(recall)\n",
    "    f1_score_history.append(f1)\n",
    "\n",
    "    # Save the best model based on validation loss\n",
    "    if avg_val_loss < best_val_loss: \n",
    "        best_val_loss = avg_val_loss\n",
    "        torch.save(model.state_dict(), \"best_model.pth\")\n",
    "\n",
    "    # Print epoch statistics\n",
    "    print(f\"Epoch [{epoch+1}/{num_epochs}] | \"\n",
    "          f\"Train Loss: {avg_train_loss:.4f} | \"\n",
    "          f\"Val Loss: {avg_val_loss:.4f} | \"\n",
    "          f\"Val Accuracy: {val_accuracy:.2f}% | \"\n",
    "          f\"Precision: {precision:.4f} | \"\n",
    "          f\"Recall: {recall:.4f} | \"\n",
    "          f\"F1 Score: {f1:.4f}\")\n",
    "\n",
    "# Plotting Precision, Recall, and F1 Score over Epochs\n",
    "epochs = np.arange(1, num_epochs + 1)\n",
    "\n",
    "plt.figure(figsize=(12, 6))\n",
    "\n",
    "plt.subplot(1, 3, 1)\n",
    "plt.plot(epochs, precision_history, label='Precision', color='blue')\n",
    "plt.xlabel('Epochs')\n",
    "plt.ylabel('Precision')\n",
    "plt.title('Precision over Epochs')\n",
    "\n",
    "plt.subplot(1, 3, 2)\n",
    "plt.plot(epochs, recall_history, label='Recall', color='green')\n",
    "plt.xlabel('Epochs')\n",
    "plt.ylabel('Recall')\n",
    "plt.title('Recall over Epochs')\n",
    "\n",
    "plt.subplot(1, 3, 3)\n",
    "plt.plot(epochs, f1_score_history, label='F1 Score', color='red')\n",
    "plt.xlabel('Epochs')\n",
    "plt.ylabel('F1 Score')\n",
    "plt.title('F1 Score over Epochs')\n",
    "\n",
    "plt.tight_layout()\n",
    "plt.show()"
   ]
  },
  {
   "cell_type": "code",
   "execution_count": 16,
   "metadata": {},
   "outputs": [],
   "source": [
    "#model testing\n",
    "from PIL import Image\n"
   ]
  },
  {
   "cell_type": "code",
   "execution_count": 17,
   "metadata": {},
   "outputs": [],
   "source": [
    "transform = transforms.Compose([\n",
    "    transforms.Resize((32, 32)),  # Resize to 32x32\n",
    "    transforms.Grayscale(num_output_channels=3),  # Convert to 3-channel grayscale\n",
    "    transforms.ToTensor(),  # Convert to tensor\n",
    "    transforms.Normalize(mean=mean, std=std)\n",
    "])"
   ]
  },
  {
   "cell_type": "code",
   "execution_count": 18,
   "metadata": {},
   "outputs": [],
   "source": [
    "# Function to preprocess the input image\n",
    "def preprocess_image(image_path):\n",
    "    image = Image.open(image_path).convert(\"L\")  # Open as grayscale\n",
    "    image = transform(image)  # Apply transformations\n",
    "    image = image.unsqueeze(0)  # Add batch dimension\n",
    "    return image"
   ]
  },
  {
   "cell_type": "code",
   "execution_count": 19,
   "metadata": {},
   "outputs": [],
   "source": [
    "# Function to test the model with a single image\n",
    "def test_model(image_path, model, class_names):\n",
    "    image = preprocess_image(image_path)  # Preprocess the image\n",
    "    device = torch.device(\"cuda\" if torch.cuda.is_available() else \"cpu\")\n",
    "    image = image.to(device)  # Send image to the correct device\n",
    "    model = model.to(device)  # Ensure the model is on the same device\n",
    "\n",
    "    model.eval()  # Set model to evaluation mode\n",
    "    with torch.no_grad():  # No gradient calculation needed\n",
    "        outputs = model(image)  # Forward pass\n",
    "        _, predicted = torch.max(outputs, 1)  # Get the predicted class index\n",
    "\n",
    "    return class_names[predicted.item()]  # Return the class name"
   ]
  },
  {
   "cell_type": "code",
   "execution_count": 24,
   "metadata": {},
   "outputs": [],
   "source": [
    "# Test the trained model \n",
    "image_path = r\"C:\\Users\\Acer\\Downloads\\character_ocr\\८\\८_6.jpg\" \n",
    "class_names = dataset.classes "
   ]
  },
  {
   "cell_type": "code",
   "execution_count": 25,
   "metadata": {},
   "outputs": [
    {
     "name": "stdout",
     "output_type": "stream",
     "text": [
      "The predicted class is: ८\n"
     ]
    }
   ],
   "source": [
    "# Perform the prediction\n",
    "predicted_class = test_model(image_path, model, class_names)\n",
    "print(f\"The predicted class is: {predicted_class}\")"
   ]
  },
  {
   "cell_type": "code",
   "execution_count": null,
   "metadata": {},
   "outputs": [],
   "source": []
  }
 ],
 "metadata": {
  "kernelspec": {
   "display_name": "nenopl",
   "language": "python",
   "name": "python3"
  },
  "language_info": {
   "codemirror_mode": {
    "name": "ipython",
    "version": 3
   },
   "file_extension": ".py",
   "mimetype": "text/x-python",
   "name": "python",
   "nbconvert_exporter": "python",
   "pygments_lexer": "ipython3",
   "version": "3.10.16"
  }
 },
 "nbformat": 4,
 "nbformat_minor": 2
}
